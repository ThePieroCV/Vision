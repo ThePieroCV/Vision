{
 "cells": [
  {
   "cell_type": "code",
   "execution_count": 1,
   "id": "affa71aa-440a-463b-962c-e9ffb26fc22c",
   "metadata": {},
   "outputs": [],
   "source": [
    "import os\n",
    "import random\n",
    "\n",
    "import cv2\n",
    "from keras.applications import EfficientNetB0\n",
    "import numpy as np\n",
    "import tensorflow as tf\n",
    "from tensorflow.keras import Model\n",
    "from tensorflow.keras import layers"
   ]
  },
  {
   "cell_type": "code",
   "execution_count": 3,
   "id": "6d5df493-fd2d-4f6d-aaca-0b791ad158f2",
   "metadata": {},
   "outputs": [],
   "source": [
    "IMG_PATH = \"Classification/images\"\n",
    "IMG_SIZE = 224"
   ]
  },
  {
   "cell_type": "code",
   "execution_count": 4,
   "id": "4c818292-3a4e-4859-a650-684f1cf59bc2",
   "metadata": {},
   "outputs": [
    {
     "name": "stdout",
     "output_type": "stream",
     "text": [
      "Found 286 files belonging to 2 classes.\n",
      "Using 172 files for training.\n"
     ]
    }
   ],
   "source": [
    "train_ds = tf.keras.preprocessing.image_dataset_from_directory(\n",
    "    IMG_PATH,\n",
    "    labels=\"inferred\",\n",
    "    label_mode=\"binary\",\n",
    "    class_names=None,\n",
    "    color_mode=\"rgb\",\n",
    "    batch_size=4,\n",
    "    image_size=(256, 256),\n",
    "    shuffle=True,\n",
    "    seed=42,\n",
    "    validation_split=0.4,\n",
    "    subset=\"training\",\n",
    "    interpolation=\"bilinear\",\n",
    "    follow_links=False,\n",
    "    crop_to_aspect_ratio=False,\n",
    ")"
   ]
  },
  {
   "cell_type": "code",
   "execution_count": 5,
   "id": "326f4d60-3291-4274-92cc-a7a16a32f2d8",
   "metadata": {},
   "outputs": [
    {
     "name": "stdout",
     "output_type": "stream",
     "text": [
      "Found 286 files belonging to 2 classes.\n",
      "Using 114 files for validation.\n"
     ]
    }
   ],
   "source": [
    "test_ds = tf.keras.preprocessing.image_dataset_from_directory(\n",
    "    IMG_PATH,\n",
    "    labels=\"inferred\",\n",
    "    label_mode=\"binary\",\n",
    "    class_names=None,\n",
    "    color_mode=\"rgb\",\n",
    "    batch_size=4,\n",
    "    image_size=(256, 256),\n",
    "    shuffle=True,\n",
    "    seed=42,\n",
    "    validation_split=0.4,\n",
    "    subset=\"validation\",\n",
    "    interpolation=\"bilinear\",\n",
    "    follow_links=False,\n",
    "    crop_to_aspect_ratio=False,\n",
    ")"
   ]
  },
  {
   "cell_type": "code",
   "execution_count": 5,
   "id": "dcdd50e6-2455-481c-a749-9f2690b31c6b",
   "metadata": {},
   "outputs": [],
   "source": [
    "base_model = EfficientNetB0(\n",
    "    weights=\"Classification/efficientnetb0_notop.h5\", include_top=False\n",
    ")\n",
    "base_model.trainable = False"
   ]
  },
  {
   "cell_type": "code",
   "execution_count": 6,
   "id": "fefd19c8-5294-4a3d-abcb-2dfe458b7198",
   "metadata": {},
   "outputs": [],
   "source": [
    "inputs = layers.Input(shape=(None, None, 3))\n",
    "x = layers.Resizing(height=IMG_SIZE, width=IMG_SIZE)(inputs)\n",
    "x = tf.keras.layers.RandomFlip(mode=\"horizontal_and_vertical\")(x)\n",
    "x = tf.keras.layers.RandomRotation(0.08)(x)\n",
    "x = tf.keras.layers.RandomBrightness(0.07)(x)\n",
    "x = tf.keras.layers.RandomContrast(0.05)(x)\n",
    "x = base_model(x)\n",
    "x = layers.GlobalAveragePooling2D()(x)\n",
    "x = layers.Dense(64)(x)\n",
    "x = layers.BatchNormalization()(x)\n",
    "x = layers.Activation(\"relu\")(x)\n",
    "x = layers.Dropout(0.2)(x)\n",
    "x = layers.Dense(1)(x)\n",
    "x = layers.Activation(\"sigmoid\")(x)\n",
    "model = Model(inputs=inputs, outputs=x)"
   ]
  },
  {
   "cell_type": "code",
   "execution_count": 7,
   "id": "65c80b4e-c993-479b-9ad5-15d01bb040bd",
   "metadata": {},
   "outputs": [
    {
     "name": "stdout",
     "output_type": "stream",
     "text": [
      "Model: \"model\"\n",
      "_________________________________________________________________\n",
      " Layer (type)                Output Shape              Param #   \n",
      "=================================================================\n",
      " input_2 (InputLayer)        [(None, None, None, 3)]   0         \n",
      "                                                                 \n",
      " resizing (Resizing)         (None, 224, 224, 3)       0         \n",
      "                                                                 \n",
      " random_flip (RandomFlip)    (None, 224, 224, 3)       0         \n",
      "                                                                 \n",
      " random_rotation (RandomRota  (None, 224, 224, 3)      0         \n",
      " tion)                                                           \n",
      "                                                                 \n",
      " random_brightness (RandomBr  (None, 224, 224, 3)      0         \n",
      " ightness)                                                       \n",
      "                                                                 \n",
      " random_contrast (RandomCont  (None, 224, 224, 3)      0         \n",
      " rast)                                                           \n",
      "                                                                 \n",
      " efficientnetb0 (Functional)  (None, None, None, 1280)  4049571  \n",
      "                                                                 \n",
      " global_average_pooling2d (G  (None, 1280)             0         \n",
      " lobalAveragePooling2D)                                          \n",
      "                                                                 \n",
      " dense (Dense)               (None, 64)                81984     \n",
      "                                                                 \n",
      " batch_normalization (BatchN  (None, 64)               256       \n",
      " ormalization)                                                   \n",
      "                                                                 \n",
      " activation (Activation)     (None, 64)                0         \n",
      "                                                                 \n",
      " dropout (Dropout)           (None, 64)                0         \n",
      "                                                                 \n",
      " dense_1 (Dense)             (None, 1)                 65        \n",
      "                                                                 \n",
      " activation_1 (Activation)   (None, 1)                 0         \n",
      "                                                                 \n",
      "=================================================================\n",
      "Total params: 4,131,876\n",
      "Trainable params: 82,177\n",
      "Non-trainable params: 4,049,699\n",
      "_________________________________________________________________\n"
     ]
    }
   ],
   "source": [
    "model.summary()"
   ]
  },
  {
   "cell_type": "code",
   "execution_count": 8,
   "id": "066c9721-535c-46d1-908e-4146e08c1682",
   "metadata": {},
   "outputs": [],
   "source": [
    "optimizer = tf.keras.optimizers.Adam(learning_rate=1e-2)"
   ]
  },
  {
   "cell_type": "code",
   "execution_count": 9,
   "id": "bae61aa5-34d4-44e3-8025-d8551ddc9238",
   "metadata": {},
   "outputs": [],
   "source": [
    "callbacks = [\n",
    "    tf.keras.callbacks.ReduceLROnPlateau(patience=6),\n",
    "    tf.keras.callbacks.EarlyStopping(patience=13, restore_best_weights=True),\n",
    "    tf.keras.callbacks.TensorBoard(\n",
    "        \"./logs\",\n",
    "        write_graph=True,\n",
    "        write_images=True,\n",
    "        update_freq=\"batch\",\n",
    "    ),\n",
    "]"
   ]
  },
  {
   "cell_type": "code",
   "execution_count": 10,
   "id": "2e073842-29d8-4e55-a8d1-25a22155cfa8",
   "metadata": {},
   "outputs": [],
   "source": [
    "model.compile(optimizer=optimizer, loss=\"binary_crossentropy\", metrics=[\"accuracy\"])"
   ]
  },
  {
   "cell_type": "code",
   "execution_count": 11,
   "id": "8dffa0ab-594a-4aef-93fe-4c0b2699815b",
   "metadata": {},
   "outputs": [
    {
     "name": "stdout",
     "output_type": "stream",
     "text": [
      "Epoch 1/100\n",
      "WARNING:tensorflow:Using a while_loop for converting RngReadAndSkip\n",
      "WARNING:tensorflow:Using a while_loop for converting Bitcast\n",
      "WARNING:tensorflow:Using a while_loop for converting Bitcast\n",
      "WARNING:tensorflow:Using a while_loop for converting StatelessRandomUniformV2\n",
      "WARNING:tensorflow:Using a while_loop for converting RngReadAndSkip\n",
      "WARNING:tensorflow:Using a while_loop for converting Bitcast\n",
      "WARNING:tensorflow:Using a while_loop for converting Bitcast\n",
      "WARNING:tensorflow:Using a while_loop for converting StatelessRandomUniformFullIntV2\n",
      "WARNING:tensorflow:Using a while_loop for converting StatelessRandomGetKeyCounter\n",
      "WARNING:tensorflow:Using a while_loop for converting StatelessRandomUniformV2\n",
      "WARNING:tensorflow:Using a while_loop for converting AdjustContrastv2\n",
      "WARNING:tensorflow:Using a while_loop for converting RngReadAndSkip\n",
      "WARNING:tensorflow:Using a while_loop for converting Bitcast\n",
      "WARNING:tensorflow:Using a while_loop for converting Bitcast\n",
      "WARNING:tensorflow:Using a while_loop for converting StatelessRandomUniformV2\n",
      "WARNING:tensorflow:Using a while_loop for converting RngReadAndSkip\n",
      "WARNING:tensorflow:Using a while_loop for converting Bitcast\n",
      "WARNING:tensorflow:Using a while_loop for converting Bitcast\n",
      "WARNING:tensorflow:Using a while_loop for converting StatelessRandomUniformFullIntV2\n",
      "WARNING:tensorflow:Using a while_loop for converting StatelessRandomGetKeyCounter\n",
      "WARNING:tensorflow:Using a while_loop for converting StatelessRandomUniformV2\n",
      "WARNING:tensorflow:Using a while_loop for converting AdjustContrastv2\n",
      "43/43 [==============================] - 12s 87ms/step - loss: 0.4247 - accuracy: 0.8023 - val_loss: 1.0332 - val_accuracy: 0.7982 - lr: 0.0100\n",
      "Epoch 2/100\n",
      "43/43 [==============================] - 2s 56ms/step - loss: 0.2954 - accuracy: 0.8779 - val_loss: 0.6057 - val_accuracy: 0.8070 - lr: 0.0100\n",
      "Epoch 3/100\n",
      "43/43 [==============================] - 2s 57ms/step - loss: 0.2448 - accuracy: 0.8953 - val_loss: 0.3035 - val_accuracy: 0.8684 - lr: 0.0100\n",
      "Epoch 4/100\n",
      "43/43 [==============================] - 2s 56ms/step - loss: 0.2208 - accuracy: 0.9360 - val_loss: 0.3836 - val_accuracy: 0.8772 - lr: 0.0100\n",
      "Epoch 5/100\n",
      "43/43 [==============================] - 2s 57ms/step - loss: 0.2345 - accuracy: 0.9128 - val_loss: 0.2908 - val_accuracy: 0.8684 - lr: 0.0100\n",
      "Epoch 6/100\n",
      "43/43 [==============================] - 2s 56ms/step - loss: 0.2156 - accuracy: 0.8953 - val_loss: 0.3435 - val_accuracy: 0.8509 - lr: 0.0100\n",
      "Epoch 7/100\n",
      "43/43 [==============================] - 2s 56ms/step - loss: 0.2555 - accuracy: 0.9244 - val_loss: 0.3166 - val_accuracy: 0.8421 - lr: 0.0100\n",
      "Epoch 8/100\n",
      "43/43 [==============================] - 2s 56ms/step - loss: 0.2090 - accuracy: 0.9302 - val_loss: 0.3186 - val_accuracy: 0.8509 - lr: 0.0100\n",
      "Epoch 9/100\n",
      "43/43 [==============================] - 2s 57ms/step - loss: 0.2214 - accuracy: 0.9186 - val_loss: 0.3116 - val_accuracy: 0.8860 - lr: 0.0100\n",
      "Epoch 10/100\n",
      "43/43 [==============================] - 3s 61ms/step - loss: 0.2047 - accuracy: 0.9244 - val_loss: 0.2650 - val_accuracy: 0.9123 - lr: 0.0100\n",
      "Epoch 11/100\n",
      "43/43 [==============================] - 2s 55ms/step - loss: 0.1838 - accuracy: 0.9128 - val_loss: 0.2877 - val_accuracy: 0.8947 - lr: 0.0100\n",
      "Epoch 12/100\n",
      "43/43 [==============================] - 2s 57ms/step - loss: 0.2471 - accuracy: 0.9244 - val_loss: 0.2330 - val_accuracy: 0.9211 - lr: 0.0100\n",
      "Epoch 13/100\n",
      "43/43 [==============================] - 2s 55ms/step - loss: 0.1751 - accuracy: 0.9419 - val_loss: 0.2812 - val_accuracy: 0.9211 - lr: 0.0100\n",
      "Epoch 14/100\n",
      "43/43 [==============================] - 2s 56ms/step - loss: 0.1983 - accuracy: 0.9360 - val_loss: 0.2859 - val_accuracy: 0.8860 - lr: 0.0100\n",
      "Epoch 15/100\n",
      "43/43 [==============================] - 2s 55ms/step - loss: 0.1798 - accuracy: 0.9302 - val_loss: 0.3209 - val_accuracy: 0.8684 - lr: 0.0100\n",
      "Epoch 16/100\n",
      "43/43 [==============================] - 2s 56ms/step - loss: 0.1480 - accuracy: 0.9360 - val_loss: 0.3027 - val_accuracy: 0.8684 - lr: 0.0100\n",
      "Epoch 17/100\n",
      "43/43 [==============================] - 2s 55ms/step - loss: 0.1710 - accuracy: 0.9360 - val_loss: 0.2573 - val_accuracy: 0.8947 - lr: 0.0100\n",
      "Epoch 18/100\n",
      "43/43 [==============================] - 2s 56ms/step - loss: 0.2035 - accuracy: 0.9302 - val_loss: 0.2861 - val_accuracy: 0.8947 - lr: 0.0100\n",
      "Epoch 19/100\n",
      "43/43 [==============================] - 2s 56ms/step - loss: 0.1498 - accuracy: 0.9419 - val_loss: 0.2340 - val_accuracy: 0.9211 - lr: 1.0000e-03\n",
      "Epoch 20/100\n",
      "43/43 [==============================] - 2s 57ms/step - loss: 0.1627 - accuracy: 0.9128 - val_loss: 0.2141 - val_accuracy: 0.9298 - lr: 1.0000e-03\n",
      "Epoch 21/100\n",
      "43/43 [==============================] - 2s 58ms/step - loss: 0.1031 - accuracy: 0.9593 - val_loss: 0.2118 - val_accuracy: 0.9298 - lr: 1.0000e-03\n",
      "Epoch 22/100\n",
      "43/43 [==============================] - 2s 56ms/step - loss: 0.1210 - accuracy: 0.9419 - val_loss: 0.2119 - val_accuracy: 0.9298 - lr: 1.0000e-03\n",
      "Epoch 23/100\n",
      "43/43 [==============================] - 2s 57ms/step - loss: 0.2030 - accuracy: 0.9419 - val_loss: 0.2137 - val_accuracy: 0.9386 - lr: 1.0000e-03\n",
      "Epoch 24/100\n",
      "43/43 [==============================] - 2s 56ms/step - loss: 0.2142 - accuracy: 0.9244 - val_loss: 0.2091 - val_accuracy: 0.9386 - lr: 1.0000e-03\n",
      "Epoch 25/100\n",
      "43/43 [==============================] - 2s 57ms/step - loss: 0.1657 - accuracy: 0.9419 - val_loss: 0.2122 - val_accuracy: 0.9211 - lr: 1.0000e-03\n",
      "Epoch 26/100\n",
      "43/43 [==============================] - 2s 56ms/step - loss: 0.1017 - accuracy: 0.9593 - val_loss: 0.2128 - val_accuracy: 0.9298 - lr: 1.0000e-03\n",
      "Epoch 27/100\n",
      "43/43 [==============================] - 2s 56ms/step - loss: 0.1662 - accuracy: 0.9593 - val_loss: 0.2104 - val_accuracy: 0.9386 - lr: 1.0000e-03\n",
      "Epoch 28/100\n",
      "43/43 [==============================] - 2s 56ms/step - loss: 0.1301 - accuracy: 0.9593 - val_loss: 0.2149 - val_accuracy: 0.9298 - lr: 1.0000e-03\n",
      "Epoch 29/100\n",
      "43/43 [==============================] - 2s 56ms/step - loss: 0.1261 - accuracy: 0.9477 - val_loss: 0.2157 - val_accuracy: 0.9386 - lr: 1.0000e-03\n",
      "Epoch 30/100\n",
      "43/43 [==============================] - 2s 55ms/step - loss: 0.1694 - accuracy: 0.9477 - val_loss: 0.2155 - val_accuracy: 0.9386 - lr: 1.0000e-03\n",
      "Epoch 31/100\n",
      "43/43 [==============================] - 2s 56ms/step - loss: 0.1029 - accuracy: 0.9709 - val_loss: 0.2174 - val_accuracy: 0.9386 - lr: 1.0000e-04\n",
      "Epoch 32/100\n",
      "43/43 [==============================] - 2s 57ms/step - loss: 0.0929 - accuracy: 0.9709 - val_loss: 0.2166 - val_accuracy: 0.9386 - lr: 1.0000e-04\n",
      "Epoch 33/100\n",
      "43/43 [==============================] - 3s 59ms/step - loss: 0.0870 - accuracy: 0.9593 - val_loss: 0.2187 - val_accuracy: 0.9386 - lr: 1.0000e-04\n",
      "Epoch 34/100\n",
      "43/43 [==============================] - 2s 55ms/step - loss: 0.1798 - accuracy: 0.9535 - val_loss: 0.2204 - val_accuracy: 0.9211 - lr: 1.0000e-04\n",
      "Epoch 35/100\n",
      "43/43 [==============================] - 2s 55ms/step - loss: 0.0915 - accuracy: 0.9709 - val_loss: 0.2206 - val_accuracy: 0.9211 - lr: 1.0000e-04\n",
      "Epoch 36/100\n",
      "43/43 [==============================] - 2s 56ms/step - loss: 0.1333 - accuracy: 0.9360 - val_loss: 0.2197 - val_accuracy: 0.9298 - lr: 1.0000e-04\n",
      "Epoch 37/100\n",
      "43/43 [==============================] - 2s 57ms/step - loss: 0.1825 - accuracy: 0.9360 - val_loss: 0.2207 - val_accuracy: 0.9298 - lr: 1.0000e-05\n"
     ]
    }
   ],
   "source": [
    "hist = model.fit(\n",
    "    train_ds, epochs=100, validation_data=test_ds, verbose=1, callbacks=callbacks\n",
    ")"
   ]
  },
  {
   "cell_type": "code",
   "execution_count": 12,
   "id": "cc987514-516e-4ae9-a8a7-ead2bf4f4cd4",
   "metadata": {},
   "outputs": [],
   "source": [
    "model.trainable = True"
   ]
  },
  {
   "cell_type": "code",
   "execution_count": 13,
   "id": "9abd58cf-3828-4a8a-9bf2-5ebbfb4880a6",
   "metadata": {},
   "outputs": [],
   "source": [
    "for layer in model.layers[6].layers:\n",
    "    if isinstance(layer, layers.BatchNormalization):\n",
    "        layer.trainable = False"
   ]
  },
  {
   "cell_type": "code",
   "execution_count": 14,
   "id": "8c82e782-eff3-4f92-bf68-8c10e6bb52d3",
   "metadata": {},
   "outputs": [
    {
     "name": "stdout",
     "output_type": "stream",
     "text": [
      "Model: \"model\"\n",
      "_________________________________________________________________\n",
      " Layer (type)                Output Shape              Param #   \n",
      "=================================================================\n",
      " input_2 (InputLayer)        [(None, None, None, 3)]   0         \n",
      "                                                                 \n",
      " resizing (Resizing)         (None, 224, 224, 3)       0         \n",
      "                                                                 \n",
      " random_flip (RandomFlip)    (None, 224, 224, 3)       0         \n",
      "                                                                 \n",
      " random_rotation (RandomRota  (None, 224, 224, 3)      0         \n",
      " tion)                                                           \n",
      "                                                                 \n",
      " random_brightness (RandomBr  (None, 224, 224, 3)      0         \n",
      " ightness)                                                       \n",
      "                                                                 \n",
      " random_contrast (RandomCont  (None, 224, 224, 3)      0         \n",
      " rast)                                                           \n",
      "                                                                 \n",
      " efficientnetb0 (Functional)  (None, None, None, 1280)  4049571  \n",
      "                                                                 \n",
      " global_average_pooling2d (G  (None, 1280)             0         \n",
      " lobalAveragePooling2D)                                          \n",
      "                                                                 \n",
      " dense (Dense)               (None, 64)                81984     \n",
      "                                                                 \n",
      " batch_normalization (BatchN  (None, 64)               256       \n",
      " ormalization)                                                   \n",
      "                                                                 \n",
      " activation (Activation)     (None, 64)                0         \n",
      "                                                                 \n",
      " dropout (Dropout)           (None, 64)                0         \n",
      "                                                                 \n",
      " dense_1 (Dense)             (None, 1)                 65        \n",
      "                                                                 \n",
      " activation_1 (Activation)   (None, 1)                 0         \n",
      "                                                                 \n",
      "=================================================================\n",
      "Total params: 4,131,876\n",
      "Trainable params: 4,047,709\n",
      "Non-trainable params: 84,167\n",
      "_________________________________________________________________\n"
     ]
    }
   ],
   "source": [
    "model.summary()"
   ]
  },
  {
   "cell_type": "code",
   "execution_count": 15,
   "id": "bffc2ea5-1142-4c76-986f-eef6bf97d25d",
   "metadata": {},
   "outputs": [],
   "source": [
    "optimizer = tf.keras.optimizers.Adam(learning_rate=1e-4)\n",
    "model.compile(optimizer=optimizer, loss=\"binary_crossentropy\", metrics=[\"accuracy\"])"
   ]
  },
  {
   "cell_type": "code",
   "execution_count": 16,
   "id": "6ed8f7e4-a19f-4b00-b7b6-a571ded2dda4",
   "metadata": {},
   "outputs": [],
   "source": [
    "callbacks = [\n",
    "    tf.keras.callbacks.ReduceLROnPlateau(patience=6),\n",
    "    tf.keras.callbacks.EarlyStopping(patience=13, restore_best_weights=True),\n",
    "    tf.keras.callbacks.TensorBoard(\n",
    "        \"./logs\",\n",
    "        write_graph=True,\n",
    "        write_images=True,\n",
    "        update_freq=\"batch\",\n",
    "    ),\n",
    "]"
   ]
  },
  {
   "cell_type": "code",
   "execution_count": 17,
   "id": "6ce127d6-a033-4fa9-9c69-7968c7ff4acf",
   "metadata": {},
   "outputs": [
    {
     "name": "stdout",
     "output_type": "stream",
     "text": [
      "Epoch 38/200\n",
      "WARNING:tensorflow:Using a while_loop for converting RngReadAndSkip\n",
      "WARNING:tensorflow:Using a while_loop for converting Bitcast\n",
      "WARNING:tensorflow:Using a while_loop for converting Bitcast\n",
      "WARNING:tensorflow:Using a while_loop for converting StatelessRandomUniformV2\n",
      "WARNING:tensorflow:Using a while_loop for converting RngReadAndSkip\n",
      "WARNING:tensorflow:Using a while_loop for converting Bitcast\n",
      "WARNING:tensorflow:Using a while_loop for converting Bitcast\n",
      "WARNING:tensorflow:Using a while_loop for converting StatelessRandomUniformFullIntV2\n",
      "WARNING:tensorflow:Using a while_loop for converting StatelessRandomGetKeyCounter\n",
      "WARNING:tensorflow:Using a while_loop for converting StatelessRandomUniformV2\n",
      "WARNING:tensorflow:Using a while_loop for converting AdjustContrastv2\n",
      "WARNING:tensorflow:Using a while_loop for converting RngReadAndSkip\n",
      "WARNING:tensorflow:Using a while_loop for converting Bitcast\n",
      "WARNING:tensorflow:Using a while_loop for converting Bitcast\n",
      "WARNING:tensorflow:Using a while_loop for converting StatelessRandomUniformV2\n",
      "WARNING:tensorflow:Using a while_loop for converting RngReadAndSkip\n",
      "WARNING:tensorflow:Using a while_loop for converting Bitcast\n",
      "WARNING:tensorflow:Using a while_loop for converting Bitcast\n",
      "WARNING:tensorflow:Using a while_loop for converting StatelessRandomUniformFullIntV2\n",
      "WARNING:tensorflow:Using a while_loop for converting StatelessRandomGetKeyCounter\n",
      "WARNING:tensorflow:Using a while_loop for converting StatelessRandomUniformV2\n",
      "WARNING:tensorflow:Using a while_loop for converting AdjustContrastv2\n",
      "43/43 [==============================] - 13s 127ms/step - loss: 0.2991 - accuracy: 0.8953 - val_loss: 1.1867 - val_accuracy: 0.5263 - lr: 1.0000e-04\n",
      "Epoch 39/200\n",
      "43/43 [==============================] - 4s 102ms/step - loss: 0.3768 - accuracy: 0.8721 - val_loss: 0.2763 - val_accuracy: 0.8947 - lr: 1.0000e-04\n",
      "Epoch 40/200\n",
      "43/43 [==============================] - 4s 102ms/step - loss: 0.2541 - accuracy: 0.8953 - val_loss: 0.2312 - val_accuracy: 0.9298 - lr: 1.0000e-04\n",
      "Epoch 41/200\n",
      "43/43 [==============================] - 4s 101ms/step - loss: 0.2210 - accuracy: 0.9128 - val_loss: 0.2392 - val_accuracy: 0.8772 - lr: 1.0000e-04\n",
      "Epoch 42/200\n",
      "43/43 [==============================] - 4s 100ms/step - loss: 0.2223 - accuracy: 0.9070 - val_loss: 0.9297 - val_accuracy: 0.7807 - lr: 1.0000e-04\n",
      "Epoch 43/200\n",
      "43/43 [==============================] - 4s 104ms/step - loss: 0.2396 - accuracy: 0.8953 - val_loss: 0.3730 - val_accuracy: 0.8772 - lr: 1.0000e-04\n",
      "Epoch 44/200\n",
      "43/43 [==============================] - 4s 101ms/step - loss: 0.2769 - accuracy: 0.8953 - val_loss: 0.2452 - val_accuracy: 0.9123 - lr: 1.0000e-04\n",
      "Epoch 45/200\n",
      "43/43 [==============================] - 4s 102ms/step - loss: 0.1409 - accuracy: 0.9128 - val_loss: 0.2558 - val_accuracy: 0.8772 - lr: 1.0000e-04\n",
      "Epoch 46/200\n",
      "43/43 [==============================] - 4s 102ms/step - loss: 0.1582 - accuracy: 0.9360 - val_loss: 0.5038 - val_accuracy: 0.8684 - lr: 1.0000e-04\n",
      "Epoch 47/200\n",
      "43/43 [==============================] - 4s 101ms/step - loss: 0.1350 - accuracy: 0.9419 - val_loss: 0.2711 - val_accuracy: 0.9035 - lr: 1.0000e-05\n",
      "Epoch 48/200\n",
      "43/43 [==============================] - 4s 102ms/step - loss: 0.1591 - accuracy: 0.9477 - val_loss: 0.2206 - val_accuracy: 0.9123 - lr: 1.0000e-05\n",
      "Epoch 49/200\n",
      "43/43 [==============================] - 4s 103ms/step - loss: 0.1450 - accuracy: 0.9360 - val_loss: 0.1496 - val_accuracy: 0.9386 - lr: 1.0000e-05\n",
      "Epoch 50/200\n",
      "43/43 [==============================] - 4s 103ms/step - loss: 0.1304 - accuracy: 0.9767 - val_loss: 0.1418 - val_accuracy: 0.9474 - lr: 1.0000e-05\n",
      "Epoch 51/200\n",
      "43/43 [==============================] - 4s 101ms/step - loss: 0.1256 - accuracy: 0.9477 - val_loss: 0.1420 - val_accuracy: 0.9386 - lr: 1.0000e-05\n",
      "Epoch 52/200\n",
      "43/43 [==============================] - 4s 102ms/step - loss: 0.1733 - accuracy: 0.9360 - val_loss: 0.1383 - val_accuracy: 0.9386 - lr: 1.0000e-05\n",
      "Epoch 53/200\n",
      "43/43 [==============================] - 4s 101ms/step - loss: 0.2176 - accuracy: 0.9477 - val_loss: 0.1470 - val_accuracy: 0.9474 - lr: 1.0000e-05\n",
      "Epoch 54/200\n",
      "43/43 [==============================] - 4s 100ms/step - loss: 0.1494 - accuracy: 0.9593 - val_loss: 0.1446 - val_accuracy: 0.9386 - lr: 1.0000e-05\n",
      "Epoch 55/200\n",
      "43/43 [==============================] - 4s 103ms/step - loss: 0.0683 - accuracy: 0.9826 - val_loss: 0.1295 - val_accuracy: 0.9386 - lr: 1.0000e-05\n",
      "Epoch 56/200\n",
      "43/43 [==============================] - 4s 101ms/step - loss: 0.1209 - accuracy: 0.9302 - val_loss: 0.1379 - val_accuracy: 0.9298 - lr: 1.0000e-05\n",
      "Epoch 57/200\n",
      "43/43 [==============================] - 4s 102ms/step - loss: 0.0891 - accuracy: 0.9767 - val_loss: 0.1344 - val_accuracy: 0.9474 - lr: 1.0000e-05\n",
      "Epoch 58/200\n",
      "43/43 [==============================] - 4s 101ms/step - loss: 0.0833 - accuracy: 0.9593 - val_loss: 0.1487 - val_accuracy: 0.9474 - lr: 1.0000e-05\n",
      "Epoch 59/200\n",
      "43/43 [==============================] - 4s 101ms/step - loss: 0.2701 - accuracy: 0.9302 - val_loss: 0.1393 - val_accuracy: 0.9386 - lr: 1.0000e-05\n",
      "Epoch 60/200\n",
      "43/43 [==============================] - 4s 100ms/step - loss: 0.0460 - accuracy: 0.9884 - val_loss: 0.1309 - val_accuracy: 0.9386 - lr: 1.0000e-05\n",
      "Epoch 61/200\n",
      "43/43 [==============================] - 4s 101ms/step - loss: 0.0806 - accuracy: 0.9709 - val_loss: 0.1451 - val_accuracy: 0.9386 - lr: 1.0000e-05\n",
      "Epoch 62/200\n",
      "43/43 [==============================] - 4s 101ms/step - loss: 0.0661 - accuracy: 0.9826 - val_loss: 0.1426 - val_accuracy: 0.9386 - lr: 1.0000e-06\n",
      "Epoch 63/200\n",
      "43/43 [==============================] - 4s 100ms/step - loss: 0.1135 - accuracy: 0.9593 - val_loss: 0.1390 - val_accuracy: 0.9386 - lr: 1.0000e-06\n",
      "Epoch 64/200\n",
      "43/43 [==============================] - 4s 101ms/step - loss: 0.1273 - accuracy: 0.9535 - val_loss: 0.1377 - val_accuracy: 0.9386 - lr: 1.0000e-06\n",
      "Epoch 65/200\n",
      "43/43 [==============================] - 4s 102ms/step - loss: 0.1077 - accuracy: 0.9767 - val_loss: 0.1383 - val_accuracy: 0.9386 - lr: 1.0000e-06\n",
      "Epoch 66/200\n",
      "43/43 [==============================] - 4s 102ms/step - loss: 0.0963 - accuracy: 0.9651 - val_loss: 0.1392 - val_accuracy: 0.9474 - lr: 1.0000e-06\n",
      "Epoch 67/200\n",
      "43/43 [==============================] - 4s 101ms/step - loss: 0.0825 - accuracy: 0.9709 - val_loss: 0.1381 - val_accuracy: 0.9474 - lr: 1.0000e-06\n",
      "Epoch 68/200\n",
      "43/43 [==============================] - 4s 102ms/step - loss: 0.1003 - accuracy: 0.9709 - val_loss: 0.1394 - val_accuracy: 0.9474 - lr: 1.0000e-07\n"
     ]
    }
   ],
   "source": [
    "hist = model.fit(\n",
    "    train_ds,\n",
    "    epochs=200,\n",
    "    validation_data=test_ds,\n",
    "    verbose=1,\n",
    "    callbacks=callbacks,\n",
    "    initial_epoch=len(hist.epoch),\n",
    ")"
   ]
  },
  {
   "cell_type": "code",
   "execution_count": 23,
   "id": "373330e4-bc01-4299-8d1d-fe1b776e6fe3",
   "metadata": {},
   "outputs": [
    {
     "name": "stdout",
     "output_type": "stream",
     "text": [
      "29/29 [==============================] - 1s 18ms/step - loss: 0.1295 - accuracy: 0.9386\n"
     ]
    },
    {
     "data": {
      "text/plain": [
       "[0.12954846024513245, 0.9385964870452881]"
      ]
     },
     "execution_count": 23,
     "metadata": {},
     "output_type": "execute_result"
    }
   ],
   "source": [
    "model.evaluate(test_ds)"
   ]
  },
  {
   "cell_type": "code",
   "execution_count": 18,
   "id": "92f27e4c-b004-4650-b9bb-421fde9f3ad3",
   "metadata": {},
   "outputs": [],
   "source": [
    "model.trainable = False"
   ]
  },
  {
   "cell_type": "code",
   "execution_count": 19,
   "id": "78a49849-250a-4200-bc49-9107f9785eed",
   "metadata": {},
   "outputs": [
    {
     "name": "stdout",
     "output_type": "stream",
     "text": [
      "True\n",
      "True\n",
      "True\n",
      "True\n",
      "False\n",
      "False\n",
      "False\n",
      "False\n"
     ]
    }
   ],
   "source": [
    "for folder in [\"harvest1\", \"notharvest0\"]:\n",
    "    IMAGE_PATHS = [\n",
    "        os.path.join(\"Classification\", \"images\", folder, file)\n",
    "        for file in os.listdir(os.path.join(\"Classification\", \"images\", folder))\n",
    "        if file.endswith(\".jpg\")\n",
    "    ]\n",
    "    for image in random.choices(IMAGE_PATHS, k=4):\n",
    "        img = cv2.imread(image)[:, :, ::-1]\n",
    "        img = img[np.newaxis, ...]\n",
    "        result = model.predict(img, verbose=0)[0][0] < 0.5\n",
    "        print(result)"
   ]
  },
  {
   "cell_type": "code",
   "execution_count": 20,
   "id": "4b2bc196-a5ab-41f1-9b11-663735ff74cb",
   "metadata": {},
   "outputs": [
    {
     "name": "stdout",
     "output_type": "stream",
     "text": [
      "WARNING:tensorflow:Using a while_loop for converting RngReadAndSkip\n",
      "WARNING:tensorflow:Using a while_loop for converting Bitcast\n",
      "WARNING:tensorflow:Using a while_loop for converting Bitcast\n",
      "WARNING:tensorflow:Using a while_loop for converting StatelessRandomUniformFullIntV2\n",
      "WARNING:tensorflow:Using a while_loop for converting StatelessRandomGetKeyCounter\n",
      "WARNING:tensorflow:Using a while_loop for converting StatelessRandomUniformV2\n",
      "WARNING:tensorflow:Using a while_loop for converting AdjustContrastv2\n",
      "WARNING:tensorflow:Using a while_loop for converting RngReadAndSkip\n",
      "WARNING:tensorflow:Using a while_loop for converting Bitcast\n",
      "WARNING:tensorflow:Using a while_loop for converting Bitcast\n",
      "WARNING:tensorflow:Using a while_loop for converting StatelessRandomUniformV2\n",
      "WARNING:tensorflow:Using a while_loop for converting RngReadAndSkip\n",
      "WARNING:tensorflow:Using a while_loop for converting Bitcast\n",
      "WARNING:tensorflow:Using a while_loop for converting Bitcast\n",
      "WARNING:tensorflow:Using a while_loop for converting StatelessRandomUniformV2\n",
      "WARNING:tensorflow:Using a while_loop for converting RngReadAndSkip\n",
      "WARNING:tensorflow:Using a while_loop for converting Bitcast\n",
      "WARNING:tensorflow:Using a while_loop for converting Bitcast\n",
      "WARNING:tensorflow:Using a while_loop for converting StatelessRandomUniformFullIntV2\n",
      "WARNING:tensorflow:Using a while_loop for converting StatelessRandomGetKeyCounter\n",
      "WARNING:tensorflow:Using a while_loop for converting StatelessRandomUniformV2\n",
      "WARNING:tensorflow:Using a while_loop for converting AdjustContrastv2\n",
      "WARNING:tensorflow:Using a while_loop for converting RngReadAndSkip\n",
      "WARNING:tensorflow:Using a while_loop for converting Bitcast\n",
      "WARNING:tensorflow:Using a while_loop for converting Bitcast\n",
      "WARNING:tensorflow:Using a while_loop for converting StatelessRandomUniformV2\n",
      "WARNING:tensorflow:Using a while_loop for converting RngReadAndSkip\n",
      "WARNING:tensorflow:Using a while_loop for converting Bitcast\n",
      "WARNING:tensorflow:Using a while_loop for converting Bitcast\n",
      "WARNING:tensorflow:Using a while_loop for converting StatelessRandomUniformFullIntV2\n",
      "WARNING:tensorflow:Using a while_loop for converting StatelessRandomGetKeyCounter\n",
      "WARNING:tensorflow:Using a while_loop for converting StatelessRandomUniformV2\n",
      "WARNING:tensorflow:Using a while_loop for converting AdjustContrastv2\n"
     ]
    },
    {
     "name": "stderr",
     "output_type": "stream",
     "text": [
      "WARNING:absl:Found untraced functions such as _jit_compiled_convolution_op, _jit_compiled_convolution_op, _jit_compiled_convolution_op, _jit_compiled_convolution_op, _jit_compiled_convolution_op while saving (showing 5 of 81). These functions will not be directly callable after loading.\n"
     ]
    },
    {
     "name": "stdout",
     "output_type": "stream",
     "text": [
      "INFO:tensorflow:Assets written to: classify_model\\assets\n"
     ]
    },
    {
     "name": "stderr",
     "output_type": "stream",
     "text": [
      "INFO:tensorflow:Assets written to: classify_model\\assets\n"
     ]
    }
   ],
   "source": [
    "model.save(\"classify_model\", include_optimizer=False)"
   ]
  },
  {
   "cell_type": "code",
   "execution_count": 2,
   "id": "29318b81-de1b-4097-9a21-2d4f8c70375f",
   "metadata": {},
   "outputs": [
    {
     "name": "stdout",
     "output_type": "stream",
     "text": [
      "WARNING:tensorflow:No training configuration found in save file, so the model was *not* compiled. Compile it manually.\n"
     ]
    }
   ],
   "source": [
    "new_model = tf.keras.models.load_model(\"classify_model\")"
   ]
  },
  {
   "cell_type": "code",
   "execution_count": 6,
   "id": "311298fc-5f77-45c6-a107-12b3da64a4e6",
   "metadata": {},
   "outputs": [
    {
     "name": "stdout",
     "output_type": "stream",
     "text": [
      "True\n",
      "True\n",
      "True\n",
      "True\n",
      "False\n",
      "False\n",
      "False\n",
      "False\n"
     ]
    }
   ],
   "source": [
    "for folder in [\"harvest1\", \"notharvest0\"]:\n",
    "    IMAGE_PATHS = [\n",
    "        os.path.join(\"Classification\", \"images\", folder, file)\n",
    "        for file in os.listdir(os.path.join(\"Classification\", \"images\", folder))\n",
    "        if file.endswith(\".jpg\")\n",
    "    ]\n",
    "    for image in random.choices(IMAGE_PATHS, k=4):\n",
    "        img = cv2.imread(image)[:, :, ::-1]\n",
    "        img = img[np.newaxis, ...]\n",
    "        result = new_model.predict(img, verbose=0)[0][0] < 0.5\n",
    "        print(result)"
   ]
  },
  {
   "cell_type": "code",
   "execution_count": 19,
   "id": "3b152033-596d-431d-9747-76c2d77bbb37",
   "metadata": {},
   "outputs": [
    {
     "name": "stdout",
     "output_type": "stream",
     "text": [
      "1/1 [==============================] - 0s 58ms/step\n",
      "1/1 [==============================] - 0s 24ms/step\n",
      "1/1 [==============================] - 0s 20ms/step\n",
      "1/1 [==============================] - 0s 23ms/step\n"
     ]
    },
    {
     "name": "stderr",
     "output_type": "stream",
     "text": [
      "C:\\Users\\RYZEN\\AppData\\Local\\Temp\\ipykernel_11304\\3773531966.py:7: DeprecationWarning: `np.int` is a deprecated alias for the builtin `int`. To silence this warning, use `int` by itself. Doing this will not modify any behavior and is safe. When replacing `np.int`, you may wish to use e.g. `np.int64` or `np.int32` to specify the precision. If you wish to review your current use, check the release note link for additional information.\n",
      "Deprecated in NumPy 1.20; for more details and guidance: https://numpy.org/devdocs/release/1.20.0-notes.html#deprecations\n",
      "  y_pred = np.append(y_pred,(score>0.5).astype(np.int))\n",
      "C:\\Users\\RYZEN\\AppData\\Local\\Temp\\ipykernel_11304\\3773531966.py:8: DeprecationWarning: `np.int` is a deprecated alias for the builtin `int`. To silence this warning, use `int` by itself. Doing this will not modify any behavior and is safe. When replacing `np.int`, you may wish to use e.g. `np.int64` or `np.int32` to specify the precision. If you wish to review your current use, check the release note link for additional information.\n",
      "Deprecated in NumPy 1.20; for more details and guidance: https://numpy.org/devdocs/release/1.20.0-notes.html#deprecations\n",
      "  y_true = np.append(y_true,(y.numpy().astype(np.int)))\n"
     ]
    },
    {
     "name": "stdout",
     "output_type": "stream",
     "text": [
      "1/1 [==============================] - 0s 21ms/step\n",
      "1/1 [==============================] - 0s 21ms/step\n",
      "1/1 [==============================] - 0s 20ms/step\n",
      "1/1 [==============================] - 0s 21ms/step\n",
      "1/1 [==============================] - 0s 20ms/step\n",
      "1/1 [==============================] - 0s 21ms/step\n",
      "1/1 [==============================] - 0s 21ms/step\n",
      "1/1 [==============================] - 0s 20ms/step\n",
      "1/1 [==============================] - 0s 20ms/step\n",
      "1/1 [==============================] - 0s 22ms/step\n",
      "1/1 [==============================] - 0s 20ms/step\n",
      "1/1 [==============================] - 0s 21ms/step\n",
      "1/1 [==============================] - 0s 21ms/step\n",
      "1/1 [==============================] - 0s 20ms/step\n",
      "1/1 [==============================] - 0s 19ms/step\n",
      "1/1 [==============================] - 0s 19ms/step\n",
      "1/1 [==============================] - 0s 21ms/step\n",
      "1/1 [==============================] - 0s 21ms/step\n",
      "1/1 [==============================] - 0s 20ms/step\n",
      "1/1 [==============================] - 0s 20ms/step\n",
      "1/1 [==============================] - 0s 21ms/step\n",
      "1/1 [==============================] - 0s 21ms/step\n",
      "1/1 [==============================] - 0s 21ms/step\n",
      "1/1 [==============================] - 0s 20ms/step\n",
      "1/1 [==============================] - 0s 19ms/step\n"
     ]
    }
   ],
   "source": [
    "y_pred = np.array([])\n",
    "y_true = np.array([])\n",
    "y_score = np.array([])\n",
    "for x, y in test_ds:\n",
    "    score = new_model.predict(x)\n",
    "    y_score = np.append(y_score, (score))\n",
    "    y_pred = np.append(y_pred, (score > 0.5).astype(np.int))\n",
    "    y_true = np.append(y_true, (y.numpy().astype(np.int)))"
   ]
  },
  {
   "cell_type": "code",
   "execution_count": 29,
   "id": "e408a337-6dd8-4292-a909-68b5761b2e43",
   "metadata": {},
   "outputs": [],
   "source": [
    "from sklearn.metrics import confusion_matrix, f1_score, roc_auc_score, roc_curve"
   ]
  },
  {
   "cell_type": "code",
   "execution_count": 94,
   "id": "3c821ff7-c971-498b-80ae-390c232ea4d2",
   "metadata": {},
   "outputs": [
    {
     "data": {
      "text/plain": [
       "<matplotlib.legend.Legend at 0x1d2c9a1fa00>"
      ]
     },
     "execution_count": 94,
     "metadata": {},
     "output_type": "execute_result"
    },
    {
     "data": {
      "image/png": "[encoded data removed]",
      "text/plain": [
       "<Figure size 1080x720 with 1 Axes>"
      ]
     },
     "metadata": {
      "needs_background": "light"
     },
     "output_type": "display_data"
    }
   ],
   "source": [
    "import matplotlib.pyplot as plt\n",
    "from sklearn.metrics import roc_curve, auc\n",
    "\n",
    "plt.rcParams[\"font.family\"] = \"Times New Roman\"\n",
    "fpr = dict()\n",
    "tpr = dict()\n",
    "roc_auc = dict()\n",
    "for i in range(2):\n",
    "    fpr[i], tpr[i], _ = roc_curve(y_true, y_score)\n",
    "    roc_auc[i] = auc(fpr[i], tpr[i])\n",
    "\n",
    "plt.figure(figsize=(15, 10))\n",
    "plt.scatter(fpr[1], tpr[1],color=(8/255,52/255,113/255,1),linewidth=5)\n",
    "plt.plot((0,0,1),(0,1,1),\"r--\",linewidth=1,label=\"Ideal\")\n",
    "plt.plot(fpr[1], tpr[1],color=(108/255,152/255,213/255,0.7),linewidth=3,label=\"Clasificador\")\n",
    "plt.plot((0,1),(0,1),\"k--\",linewidth=2,label=\"Aleatorio\")\n",
    "\n",
    "plt.xlim([-0.05, 1.05])\n",
    "plt.ylim([0.0, 1.05])\n",
    "plt.xlabel(\"Ratio de Falsos Positivos\", fontdict={\"size\": 20, \"family\":\"Times New Roman\"})\n",
    "plt.ylabel(\"Ratio de Verdaderos Positivos\", fontdict={\"size\": 20, \"family\":\"Times New Roman\"})\n",
    "plt.title(\"Curva ROC\", fontdict={\"size\": 26, \"family\":\"Times New Roman\"});\n",
    "plt.tick_params(axis='both', which='major', labelsize=16)\n",
    "plt.legend(prop={'size': 20})"
   ]
  },
  {
   "cell_type": "code",
   "execution_count": 9,
   "id": "bfc6aa30-c22d-4442-8211-cecb8c62de0d",
   "metadata": {},
   "outputs": [
    {
     "data": {
      "text/plain": [
       "array([[23,  3],\n",
       "       [ 4, 84]], dtype=int64)"
      ]
     },
     "execution_count": 9,
     "metadata": {},
     "output_type": "execute_result"
    }
   ],
   "source": [
    "confusion_matrix(y_true, y_pred)"
   ]
  },
  {
   "cell_type": "code",
   "execution_count": 10,
   "id": "4f2ca55c-8630-49fb-b2a4-6716d6464c49",
   "metadata": {},
   "outputs": [],
   "source": [
    "import seaborn as sns"
   ]
  },
  {
   "cell_type": "code",
   "execution_count": 11,
   "id": "677c1bb6-4d95-45d6-803c-6f8bf787fb10",
   "metadata": {},
   "outputs": [],
   "source": [
    "sns.set_context(\"paper\")\n",
    "sns.set_style(\"whitegrid\")"
   ]
  },
  {
   "cell_type": "code",
   "execution_count": 12,
   "id": "43c37e0f-8dd5-46b0-a151-db19a8d080c6",
   "metadata": {},
   "outputs": [],
   "source": [
    "import matplotlib.pyplot as plt"
   ]
  },
  {
   "cell_type": "code",
   "execution_count": 136,
   "id": "e6e2f1e0-2457-4e2f-bbf7-5863476d9704",
   "metadata": {},
   "outputs": [
    {
     "name": "stdout",
     "output_type": "stream",
     "text": [
      "1/1 [==============================] - 0s 22ms/step\n",
      "1/1 [==============================] - 0s 20ms/step\n",
      "1/1 [==============================] - 0s 19ms/step\n",
      "1/1 [==============================] - 0s 20ms/step\n",
      "1/1 [==============================] - 0s 19ms/step\n"
     ]
    },
    {
     "name": "stderr",
     "output_type": "stream",
     "text": [
      "C:\\Users\\RYZEN\\AppData\\Local\\Temp\\ipykernel_11304\\2028687002.py:7: DeprecationWarning: `np.int` is a deprecated alias for the builtin `int`. To silence this warning, use `int` by itself. Doing this will not modify any behavior and is safe. When replacing `np.int`, you may wish to use e.g. `np.int64` or `np.int32` to specify the precision. If you wish to review your current use, check the release note link for additional information.\n",
      "Deprecated in NumPy 1.20; for more details and guidance: https://numpy.org/devdocs/release/1.20.0-notes.html#deprecations\n",
      "  y_pred = np.append(y_pred, (score > 0.5).astype(np.int))\n",
      "C:\\Users\\RYZEN\\AppData\\Local\\Temp\\ipykernel_11304\\2028687002.py:8: DeprecationWarning: `np.int` is a deprecated alias for the builtin `int`. To silence this warning, use `int` by itself. Doing this will not modify any behavior and is safe. When replacing `np.int`, you may wish to use e.g. `np.int64` or `np.int32` to specify the precision. If you wish to review your current use, check the release note link for additional information.\n",
      "Deprecated in NumPy 1.20; for more details and guidance: https://numpy.org/devdocs/release/1.20.0-notes.html#deprecations\n",
      "  y_true = np.append(y_true, (y.numpy().astype(np.int)))\n"
     ]
    },
    {
     "name": "stdout",
     "output_type": "stream",
     "text": [
      "1/1 [==============================] - 0s 19ms/step\n",
      "1/1 [==============================] - 0s 19ms/step\n",
      "1/1 [==============================] - 0s 20ms/step\n",
      "1/1 [==============================] - 0s 21ms/step\n",
      "1/1 [==============================] - 0s 20ms/step\n",
      "1/1 [==============================] - 0s 19ms/step\n",
      "1/1 [==============================] - 0s 20ms/step\n",
      "1/1 [==============================] - 0s 19ms/step\n",
      "1/1 [==============================] - 0s 19ms/step\n",
      "1/1 [==============================] - 0s 20ms/step\n",
      "1/1 [==============================] - 0s 21ms/step\n",
      "1/1 [==============================] - 0s 20ms/step\n",
      "1/1 [==============================] - 0s 20ms/step\n",
      "1/1 [==============================] - 0s 19ms/step\n",
      "1/1 [==============================] - 0s 20ms/step\n",
      "1/1 [==============================] - 0s 19ms/step\n",
      "1/1 [==============================] - 0s 19ms/step\n",
      "1/1 [==============================] - 0s 20ms/step\n",
      "1/1 [==============================] - 0s 20ms/step\n",
      "1/1 [==============================] - 0s 20ms/step\n",
      "1/1 [==============================] - 0s 19ms/step\n",
      "1/1 [==============================] - 0s 19ms/step\n",
      "1/1 [==============================] - 0s 20ms/step\n",
      "1/1 [==============================] - 0s 19ms/step\n"
     ]
    }
   ],
   "source": [
    "y_pred = np.array([])\n",
    "y_true = np.array([])\n",
    "y_score = np.array([])\n",
    "for x, y in test_ds:\n",
    "    score = new_model.predict(x)\n",
    "    y_score = np.append(y_score, (score))\n",
    "    y_pred = np.append(y_pred, (score > 0.5).astype(np.int))\n",
    "    y_true = np.append(y_true, (y.numpy().astype(np.int)))"
   ]
  },
  {
   "cell_type": "code",
   "execution_count": 138,
   "id": "c28564da-0f83-4197-8179-85b8d5b5e83e",
   "metadata": {},
   "outputs": [
    {
     "data": {
      "image/png": "[encoded data removed]",
      "text/plain": [
       "<Figure size 1080x720 with 2 Axes>"
      ]
     },
     "metadata": {
      "needs_background": "light"
     },
     "output_type": "display_data"
    }
   ],
   "source": [
    "plt.figure(figsize=(15, 10))\n",
    "ax = sns.heatmap(\n",
    "    confusion_matrix(y_true, y_pred) * 100 / len(y_pred),\n",
    "    annot=True,\n",
    "    cmap=\"Blues\",\n",
    "    fmt=\".1f\",\n",
    "    annot_kws={\"fontsize\": 20},\n",
    "    xticklabels=[\"Cosechable\", \"No Cosechable\"],\n",
    "    yticklabels=[\"Cosechable\", \"No Cosechable\"],\n",
    ")\n",
    "for t in ax.texts:\n",
    "    t.set_text(t.get_text() + \" %\")\n",
    "ax.set_xticklabels(ax.get_xmajorticklabels(), fontsize=16)\n",
    "ax.set_yticklabels(ax.get_ymajorticklabels(), fontsize=16)\n",
    "ax.set_title(\"Matriz de Confusión a confianza media (0.5)\", fontsize=22);"
   ]
  },
  {
   "cell_type": "code",
   "execution_count": 15,
   "id": "db06b79c-ba3f-4e35-8e5c-1678fa32689d",
   "metadata": {},
   "outputs": [
    {
     "data": {
      "text/plain": [
       "0.96"
      ]
     },
     "execution_count": 15,
     "metadata": {},
     "output_type": "execute_result"
    }
   ],
   "source": [
    "f1_score(y_true, y_pred)"
   ]
  },
  {
   "cell_type": "code",
   "execution_count": null,
   "id": "b8b821ff-caa8-4694-94a6-168cabd8485c",
   "metadata": {},
   "outputs": [],
   "source": []
  }
 ],
 "metadata": {
  "kernelspec": {
   "display_name": "Python 3 (ipykernel)",
   "language": "python",
   "name": "python3"
  },
  "language_info": {
   "codemirror_mode": {
    "name": "ipython",
    "version": 3
   },
   "file_extension": ".py",
   "mimetype": "text/x-python",
   "name": "python",
   "nbconvert_exporter": "python",
   "pygments_lexer": "ipython3",
   "version": "3.8.13"
  }
 },
 "nbformat": 4,
 "nbformat_minor": 5
}
